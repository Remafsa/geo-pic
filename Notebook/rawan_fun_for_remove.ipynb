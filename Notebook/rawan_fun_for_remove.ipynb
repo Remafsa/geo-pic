{
  "nbformat": 4,
  "nbformat_minor": 0,
  "metadata": {
    "colab": {
      "provenance": []
    },
    "kernelspec": {
      "name": "python3",
      "display_name": "Python 3"
    },
    "language_info": {
      "name": "python"
    }
  },
  "cells": [
    {
      "cell_type": "code",
      "execution_count": 4,
      "metadata": {
        "colab": {
          "base_uri": "https://localhost:8080/"
        },
        "id": "8HnwX8W0-eoC",
        "outputId": "c87338d5-8724-411b-9d28-48172f54dc30"
      },
      "outputs": [
        {
          "output_type": "stream",
          "name": "stdout",
          "text": [
            "new file\n"
          ]
        }
      ],
      "source": [
        "import json\n",
        "\n",
        "with open('/content/Full_data.json', 'r', encoding='utf-8') as file:\n",
        "    data = json.load(file)\n",
        "\n",
        "def remove_specific_photo_tags(data):\n",
        "    tags_to_remove = [\"drink, food\", \"food\", \"other, food\", \"drink, other, food\"]\n",
        "\n",
        "    cleaned_data = [item for item in data if \"photo_tags\" not in item or item[\"photo_tags\"] not in tags_to_remove]\n",
        "    return cleaned_data\n",
        "\n",
        "\n",
        "cleaned_data = remove_specific_photo_tags(data)\n",
        "\n",
        "\n",
        "with open('full_data_cleaned.json', 'w', encoding='utf-8') as file:\n",
        "    json.dump(cleaned_data, file, ensure_ascii=False, indent=4)\n",
        "\n",
        "print(\"new file\")"
      ]
    }
  ]
}