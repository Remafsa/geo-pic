{
 "cells": [
  {
   "cell_type": "code",
   "execution_count": 4,
   "metadata": {},
   "outputs": [
    {
     "name": "stderr",
     "output_type": "stream",
     "text": [
      "Using cache found in /Users/remaalnssiry/.cache/torch/hub/ultralytics_yolov5_master\n",
      "YOLOv5 🚀 2024-10-16 Python-3.10.6 torch-2.4.1 CPU\n",
      "\n",
      "Fusing layers... \n",
      "YOLOv5s summary: 213 layers, 7225885 parameters, 0 gradients, 16.4 GFLOPs\n",
      "Adding AutoShape... \n"
     ]
    }
   ],
   "source": [
    "import json\n",
    "import requests\n",
    "import torch\n",
    "from PIL import Image\n",
    "from io import BytesIO\n",
    "\n",
    "# Load the YOLOv5 model\n",
    "model = torch.hub.load('ultralytics/yolov5', 'yolov5s', pretrained=True)"
   ]
  },
  {
   "cell_type": "code",
   "execution_count": null,
   "metadata": {},
   "outputs": [],
   "source": [
    "\n",
    "\n",
    "# File paths\n",
    "file_path = 'data/full_data.json'\n",
    "output_file_path = 'data/indoor_outdoor_images.json'\n",
    "\n",
    "# Load the JSON data from the file\n",
    "with open(file_path, 'r', encoding='utf-8') as file:\n",
    "    data = json.load(file)\n",
    "\n",
    "# Define food and drink classes based on YOLOv5's dataset\n",
    "food_classes = [\n",
    "    'cake', 'pizza', 'hot dog', 'hamburger', 'fries', 'donut', 'spaghetti',\n",
    "    'steak', 'soda', 'wine', 'coffee', 'tea', 'cocktail', 'watermelon',\n",
    "    'fruit', 'vegetable'\n",
    "]\n",
    "\n",
    "# Initialize a list to hold images that do not contain food or drinks\n",
    "filtered_images = []\n",
    "\n",
    "def classify_image(url):\n",
    "    response = requests.get(url)\n",
    "    img = Image.open(BytesIO(response.content))\n",
    "    results = model(img)\n",
    "    class_labels = results.names\n",
    "    detected_classes = results.pred[0][:, -1].tolist()\n",
    "\n",
    "    # Check if any of the detected classes are in the food_classes\n",
    "    contains_food = any(class_labels[int(class_index)] in food_classes for class_index in detected_classes)\n",
    "\n",
    "    return contains_food\n",
    "\n",
    "# Loop through each item in the JSON data\n",
    "for item in data:\n",
    "    if 'photo_url' in item and item['photo_url']:\n",
    "        if not classify_image(item['photo_url']):\n",
    "            filtered_images.append(item)\n",
    "\n",
    "# Save the filtered images to a new JSON file\n",
    "with open(output_file_path, 'w', encoding='utf-8') as output_file:\n",
    "    json.dump(filtered_images, output_file, ensure_ascii=False, indent=4)\n",
    "\n",
    "print(f\"Filtered images saved to '{output_file_path}'.\")\n"
   ]
  }
 ],
 "metadata": {
  "kernelspec": {
   "display_name": "geo-pic",
   "language": "python",
   "name": "python3"
  },
  "language_info": {
   "codemirror_mode": {
    "name": "ipython",
    "version": 3
   },
   "file_extension": ".py",
   "mimetype": "text/x-python",
   "name": "python",
   "nbconvert_exporter": "python",
   "pygments_lexer": "ipython3",
   "version": "3.10.6"
  }
 },
 "nbformat": 4,
 "nbformat_minor": 2
}
