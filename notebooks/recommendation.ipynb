{
 "cells": [
  {
   "cell_type": "code",
   "execution_count": null,
   "metadata": {},
   "outputs": [],
   "source": [
    "import os\n",
    "import sys\n",
    "import json\n",
    "import requests\n",
    "import numpy as np\n",
    "from io import BytesIO\n",
    "# Add parent directory to system path\n",
    "sys.path.append(os.path.abspath('../'))\n",
    "# TensorFlow and Keras imports\n",
    "from tensorflow.keras.preprocessing import image as image_utils\n",
    "from tensorflow.keras.applications import ResNet50\n",
    "from tensorflow.keras.applications.resnet50 import preprocess_input\n",
    "from tensorflow.keras.models import Model\n",
    "\n",
    "# Scikit-learn imports\n",
    "from sklearn.neighbors import NearestNeighbors\n",
    "\n",
    "# Custom module imports\n",
    "from recommendation_system.ml_logic import (\n",
    "    download_images,\n",
    "    extract_features,\n",
    "    extract_image_urls_from_json,\n",
    "    download_images_from_file,\n",
    "    find_similar_images,\n",
    "    print_similar_images)\n"
   ]
  },
  {
   "cell_type": "code",
   "execution_count": null,
   "metadata": {},
   "outputs": [],
   "source": [
    "\n",
    "# Load ResNet50 model for feature extraction\n",
    "model = ResNet50(weights='imagenet', include_top=False, pooling='avg')"
   ]
  },
  {
   "cell_type": "code",
   "execution_count": null,
   "metadata": {},
   "outputs": [],
   "source": [
    "\n",
    "# Specify the path to save images\n",
    "save_folder = '../data/Images'\n",
    "\n",
    "downloaded_df = download_images_from_file(\n",
    "    file_path='../data/Outscraper-20241011183106xs96_fine_dining_restaurant.json',  # replace this with your actual data file\n",
    "    file_type='json',  # or 'csv' depending on your file type\n",
    "    url_column='photo_url',\n",
    "    name_column='name',\n",
    "    save_folder=save_folder,\n",
    "    save_csv=True,  # If you want to save the updated DataFrame\n",
    "    csv_file_name='output.csv'  # Name for the output CSV file\n",
    ")\n",
    "\n",
    "print(downloaded_df)"
   ]
  },
  {
   "cell_type": "code",
   "execution_count": 4,
   "metadata": {},
   "outputs": [],
   "source": [
    "\n",
    "\n",
    "image_urls = downloaded_df['photo_url'].tolist()\n",
    "local_image_paths = downloaded_df['IMG_FILE'].tolist()\n",
    "csv_save_path = 'image_features.csv'\n"
   ]
  },
  {
   "cell_type": "code",
   "execution_count": null,
   "metadata": {},
   "outputs": [],
   "source": [
    "#If the user does not want to save the features, they can simply call it without the make_csv argument or set it to False:\n",
    "#features = extract_features(image_paths, model)\n",
    "image_features = extract_features(local_image_paths, model,csv_save_path,make_csv=True)\n"
   ]
  },
  {
   "cell_type": "code",
   "execution_count": null,
   "metadata": {},
   "outputs": [],
   "source": [
    "\n",
    "target_image_path = '../data/Images/56th Avenue Diner_1.jpg'\n",
    "n_similar = 10\n",
    "similar_images = find_similar_images(target_image_path, image_features, downloaded_df, model, n_similar=n_similar)\n",
    "print_similar_images(similar_images, downloaded_df)"
   ]
  },
  {
   "cell_type": "code",
   "execution_count": null,
   "metadata": {},
   "outputs": [],
   "source": []
  }
 ],
 "metadata": {
  "kernelspec": {
   "display_name": "geo-pic",
   "language": "python",
   "name": "python3"
  },
  "language_info": {
   "codemirror_mode": {
    "name": "ipython",
    "version": 3
   },
   "file_extension": ".py",
   "mimetype": "text/x-python",
   "name": "python",
   "nbconvert_exporter": "python",
   "pygments_lexer": "ipython3",
   "version": "3.10.6"
  }
 },
 "nbformat": 4,
 "nbformat_minor": 2
}
