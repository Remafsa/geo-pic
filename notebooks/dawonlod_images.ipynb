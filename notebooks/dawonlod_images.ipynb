{
 "cells": [
  {
   "cell_type": "code",
   "execution_count": null,
   "metadata": {},
   "outputs": [],
   "source": [
    "import json\n",
    "import requests\n",
    "import os\n",
    "\n",
    "# Path to your JSON file\n",
    "json_file = 'cleaned_image_data.json'\n",
    "\n",
    "# Load the JSON data from the file\n",
    "with open(json_file, 'r') as f:\n",
    "    photos = json.load(f)\n",
    "\n",
    "# Create a folder named 'photos' if it doesn't exist\n",
    "os.makedirs('photos', exist_ok=True)\n",
    "\n",
    "# Function to download an image from a URL\n",
    "def download_image(url, filename):\n",
    "    response = requests.get(url)\n",
    "    if response.status_code == 200:\n",
    "        with open(filename, 'wb') as f:\n",
    "            f.write(response.content)\n",
    "        print(f\"Downloaded {filename}\")\n",
    "    else:\n",
    "        print(f\"Failed to download {filename}\")\n",
    "\n",
    "# Loop through the photos and download each one\n",
    "for i, photo in enumerate(photos):\n",
    "    photo_url = photo.get('photo_url_big')  # Use 'photo_url_big' for high-resolution images\n",
    "    if photo_url:\n",
    "        # Create a filename based on the place name and photo index, saving in the 'photos' folder\n",
    "        filename = os.path.join('photos', f\"{photo['name'].replace(' ', '_')}_photo_{i+1}.jpg\")\n",
    "        download_image(photo_url, filename)\n",
    "    else:\n",
    "        print(f\"No photo URL found for {photo['name']}\")"
   ]
  }
 ],
 "metadata": {
  "language_info": {
   "name": "python"
  }
 },
 "nbformat": 4,
 "nbformat_minor": 2
}
